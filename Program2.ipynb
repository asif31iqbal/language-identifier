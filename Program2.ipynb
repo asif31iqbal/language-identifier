{
 "cells": [
  {
   "cell_type": "code",
   "execution_count": 136,
   "metadata": {},
   "outputs": [],
   "source": [
    "from nltk import ngrams, word_tokenize\n",
    "import pickle\n",
    "import os"
   ]
  },
  {
   "cell_type": "code",
   "execution_count": 137,
   "metadata": {},
   "outputs": [],
   "source": [
    "with open('hm3_files/English.unigram.pickle', 'rb') as handle:\n",
    "    unigram_english_dict = pickle.load(handle)"
   ]
  },
  {
   "cell_type": "code",
   "execution_count": 138,
   "metadata": {},
   "outputs": [],
   "source": [
    "with open('hm3_files/English.bigram.pickle', 'rb') as handle:\n",
    "    bigram_english_dict = pickle.load(handle)"
   ]
  },
  {
   "cell_type": "code",
   "execution_count": 139,
   "metadata": {},
   "outputs": [],
   "source": [
    "with open('hm3_files/French.unigram.pickle', 'rb') as handle:\n",
    "    unigram_french_dict = pickle.load(handle)"
   ]
  },
  {
   "cell_type": "code",
   "execution_count": 140,
   "metadata": {},
   "outputs": [],
   "source": [
    "with open('hm3_files/French.bigram.pickle', 'rb') as handle:\n",
    "    bigram_french_dict = pickle.load(handle)"
   ]
  },
  {
   "cell_type": "code",
   "execution_count": 141,
   "metadata": {},
   "outputs": [],
   "source": [
    "with open('hm3_files/Italian.unigram.pickle', 'rb') as handle:\n",
    "    unigram_italian_dict = pickle.load(handle)"
   ]
  },
  {
   "cell_type": "code",
   "execution_count": 142,
   "metadata": {},
   "outputs": [],
   "source": [
    "with open('hm3_files/Italian.bigram.pickle', 'rb') as handle:\n",
    "    bigram_italian_dict = pickle.load(handle)"
   ]
  },
  {
   "cell_type": "code",
   "execution_count": 143,
   "metadata": {},
   "outputs": [],
   "source": [
    "vocabulary_size = (float)(len(unigram_english_dict) + len(unigram_french_dict) + len(unigram_italian_dict))\n",
    "vocabulary_size = float(vocabulary_size)"
   ]
  },
  {
   "cell_type": "code",
   "execution_count": 144,
   "metadata": {},
   "outputs": [],
   "source": [
    "def get_bigram_probability(bigram_phrase, first_word, bigram_dict, unigram_dict):\n",
    "    bigram_count = bigram_dict.get(bigram_phrase)\n",
    "    if bigram_count is None:\n",
    "        bigram_count = 0\n",
    "    bigram_count = float(bigram_count)\n",
    "    first_word_count = unigram_dict.get(first_word)\n",
    "    if first_word_count is None:\n",
    "        first_word_count = 0\n",
    "    first_word_count = float(first_word_count)\n",
    "    return (bigram_count + 1) / (first_word_count + vocabulary_size)"
   ]
  },
  {
   "cell_type": "code",
   "execution_count": 145,
   "metadata": {},
   "outputs": [],
   "source": [
    "def get_language_probability(bigram_list, first_words, bigram_dict, unigram_dict):\n",
    "    result = 1.0\n",
    "    index = 0\n",
    "    for bigram in bigram_list:\n",
    "        result *= get_bigram_probability(bigram, first_words[index], bigram_dict, unigram_dict)\n",
    "        index += 1\n",
    "    return result"
   ]
  },
  {
   "cell_type": "code",
   "execution_count": 146,
   "metadata": {},
   "outputs": [],
   "source": [
    "solution_dict = dict()\n",
    "with open('hm3_files/LangId.sol') as f:\n",
    "    for line in f:\n",
    "       (key, val) = line.split()\n",
    "       solution_dict[int(key)] = val\n",
    "        \n",
    "line_no = 1\n",
    "result_dict = dict()\n",
    "correct = 0\n",
    "incorrect_line_numbers = []\n",
    "\n",
    "with open('hm3_files/LangId.test', encoding='utf8') as f:\n",
    "    for line in f:\n",
    "        tokens = word_tokenize(line.lower())\n",
    "        bigrams = ngrams(tokens, 2)  \n",
    "        bigram_list = []   \n",
    "        first_words = []\n",
    "        for b in bigrams:\n",
    "            bigram_list.append(' '.join(b))\n",
    "            first_words.append(b[0])\n",
    "            \n",
    "        english_prob = get_language_probability(bigram_list, first_words, bigram_english_dict, unigram_english_dict)\n",
    "        french_prob = get_language_probability(bigram_list, first_words, bigram_french_dict, unigram_french_dict)\n",
    "        italian_prob = get_language_probability(bigram_list, first_words, bigram_italian_dict, unigram_italian_dict)\n",
    "        \n",
    "        max_prob = max(english_prob, french_prob, italian_prob)\n",
    "        if max_prob == english_prob:\n",
    "            result_dict[line_no] = 'English'\n",
    "        elif max_prob == french_prob:\n",
    "            result_dict[line_no] = 'French'\n",
    "        else:\n",
    "            result_dict[line_no] = 'Italian'\n",
    "        \n",
    "        if solution_dict[line_no] == result_dict[line_no]:\n",
    "            correct += 1\n",
    "        else:\n",
    "            incorrect_line_numbers.append(line_no)\n",
    "            \n",
    "        line_no += 1    "
   ]
  },
  {
   "cell_type": "code",
   "execution_count": 147,
   "metadata": {},
   "outputs": [],
   "source": [
    "with open('hm3_files/LangId.result', 'w') as f:\n",
    "    for (key, val) in result_dict.items():\n",
    "        f.write(' '.join([str(key), val]) + os.linesep)   "
   ]
  },
  {
   "cell_type": "code",
   "execution_count": 148,
   "metadata": {},
   "outputs": [
    {
     "name": "stdout",
     "output_type": "stream",
     "text": [
      "Accuracy: 98.00%\n"
     ]
    }
   ],
   "source": [
    "print('Accuracy: {:2.2f}%'.format(float(correct) * 100 / len(solution_dict)))"
   ]
  },
  {
   "cell_type": "code",
   "execution_count": 150,
   "metadata": {},
   "outputs": [
    {
     "name": "stdout",
     "output_type": "stream",
     "text": [
      "Line numbers for incorrectly classified languages: [24, 187, 191, 247, 277, 279]\n"
     ]
    }
   ],
   "source": [
    "print('Line numbers for incorrectly classified languages: {}'.format(str(incorrect_line_numbers)))"
   ]
  }
 ],
 "metadata": {
  "kernelspec": {
   "display_name": "Python 3",
   "language": "python",
   "name": "python3"
  },
  "language_info": {
   "codemirror_mode": {
    "name": "ipython",
    "version": 3
   },
   "file_extension": ".py",
   "mimetype": "text/x-python",
   "name": "python",
   "nbconvert_exporter": "python",
   "pygments_lexer": "ipython3",
   "version": "3.6.2"
  }
 },
 "nbformat": 4,
 "nbformat_minor": 2
}
