{
 "cells": [
  {
   "cell_type": "code",
   "execution_count": 101,
   "metadata": {},
   "outputs": [],
   "source": [
    "from nltk import ngrams, FreqDist, word_tokenize\n",
    "import pickle"
   ]
  },
  {
   "cell_type": "code",
   "execution_count": 102,
   "metadata": {},
   "outputs": [],
   "source": [
    "def get_ngram_count_dict(tokens, n):\n",
    "    n_grams = ngrams(tokens, n)  \n",
    "    fdist = nltk.FreqDist(n_grams)\n",
    "    ngram_dict = dict()\n",
    "    for k,v in fdist.items():\n",
    "        ngram_dict[' '.join(k)] = v\n",
    "    return ngram_dict"
   ]
  },
  {
   "cell_type": "code",
   "execution_count": 103,
   "metadata": {},
   "outputs": [],
   "source": [
    "def get_unigram_bigram_dicts(file):\n",
    "    with open(file, encoding='utf8') as f:\n",
    "        content = f.read().lower()\n",
    "    tokens = word_tokenize(content)\n",
    "    unigram_dict = get_ngram_count_dict(tokens, 1)     \n",
    "    bigram_dict = get_ngram_count_dict(tokens, 2)     \n",
    "    return (unigram_dict, bigram_dict)"
   ]
  },
  {
   "cell_type": "code",
   "execution_count": 104,
   "metadata": {},
   "outputs": [],
   "source": [
    "def dump_pickle(language):\n",
    "    file = 'hm3_files/LangId.train.' + language\n",
    "    unigram_dict, bigram_dict = get_unigram_bigram_dicts(file)\n",
    "    with open('hm3_files/' + language + '.unigram.pickle', 'wb') as handle:\n",
    "        pickle.dump(unigram_dict, handle, protocol=pickle.HIGHEST_PROTOCOL) \n",
    "    with open('hm3_files/' + language + '.bigram.pickle', 'wb') as handle:\n",
    "        pickle.dump(bigram_dict, handle, protocol=pickle.HIGHEST_PROTOCOL)   "
   ]
  },
  {
   "cell_type": "code",
   "execution_count": 105,
   "metadata": {},
   "outputs": [],
   "source": [
    "dump_pickle('English')"
   ]
  },
  {
   "cell_type": "code",
   "execution_count": 106,
   "metadata": {},
   "outputs": [],
   "source": [
    "dump_pickle('French')"
   ]
  },
  {
   "cell_type": "code",
   "execution_count": 107,
   "metadata": {},
   "outputs": [],
   "source": [
    "dump_pickle('Italian')"
   ]
  }
 ],
 "metadata": {
  "kernelspec": {
   "display_name": "Python 3",
   "language": "python",
   "name": "python3"
  },
  "language_info": {
   "codemirror_mode": {
    "name": "ipython",
    "version": 3
   },
   "file_extension": ".py",
   "mimetype": "text/x-python",
   "name": "python",
   "nbconvert_exporter": "python",
   "pygments_lexer": "ipython3",
   "version": "3.6.2"
  }
 },
 "nbformat": 4,
 "nbformat_minor": 2
}
